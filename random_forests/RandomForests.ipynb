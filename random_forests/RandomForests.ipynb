{
 "cells": [
  {
   "cell_type": "code",
   "execution_count": 3,
   "metadata": {},
   "outputs": [],
   "source": [
    "import pandas as pd\n",
    "from numpy import zeros\n",
    "\n",
    "\n",
    "def process(data_file_path):\n",
    "    df = pd.read_csv(data_file_path, header=0)\n",
    "    \n",
    "    print(\"information schema description:\")\n",
    "    print(df.info())\n",
    "    print(df.describe())\n",
    "    \n",
    "    print(\"Summary of attributes with values missing:\")\n",
    "    for i, s in enumerate(df):\n",
    "        if df[s].count() < len(df):\n",
    "            print(s, df[s].count())\n",
    "    \n",
    "    print(\"Enumerating str/object data:\")\n",
    "    \n",
    "    print(\"Enumerating Sex:\")\n",
    "    print(df['Sex'].unique())\n",
    "    df['Gender'] = df['Sex'].map({'female': 0, 'male': 1}).astype(int)\n",
    "    df = df.drop(['Sex'], axis=1)\n",
    "    \n",
    "    print(\"Enumerating Embarked:\")\n",
    "    print(df['Embarked'].unique())\n",
    "    df['EmbarkedEnum'] = df['Embarked'].dropna().map({'C': 1, 'S': 2, 'Q': 3}).astype(int)\n",
    "    df = df.drop(['Embarked'], axis=1)\n",
    "    \n",
    "    print(\"Filling missing data:\")\n",
    "    \n",
    "    print(\"Filling other missing numeric values with zeroeth-order approximation -- the most probable value (mode):\")\n",
    "    for field in ('EmbarkedEnum', 'SibSp', 'Parch', 'Fare'):\n",
    "        df[field].fillna(df[field].dropna().mode().values[0], inplace=True)\n",
    "    \n",
    "    print(\"Filling Age:\")\n",
    "    nGenders = len(df['Gender'].dropna().unique())\n",
    "    nPclasses = len(df['Pclass'].dropna().unique())\n",
    "    median_ages = zeros((nGenders, nPclasses))\n",
    "    for i in range(nGenders):\n",
    "        for j in range(nPclasses):\n",
    "            median_ages[i, j] = df[(df['Gender'] == i) & (df['Pclass'] == j + 1)]['Age'].dropna().median()\n",
    "    df['AgeFill'] = df['Age']\n",
    "    for i in range(nGenders):\n",
    "        for j in range(nPclasses):\n",
    "            df.loc[(df.Age.isnull()) & (df.Gender == i) & (df.Pclass == j + 1), 'AgeFill'] = median_ages[i, j]\n",
    "    df = df.drop(['Age'], axis=1)\n",
    "    \n",
    "    print(\"Separating attributes from labels and observation IDs\")\n",
    "    \n",
    "    y = None\n",
    "    if 'Survived' in df:\n",
    "        print(\"Separating Survived, which is not part of the parameters (\\\"X\\\")\")\n",
    "        y = df['Survived']\n",
    "        df = df.drop(['Survived'], axis=1)\n",
    "    \n",
    "    print(\"don't even bother enumerating these fields, just drop them:\")\n",
    "    passenger_ids = df['PassengerId'].values\n",
    "    df = df.drop(['PassengerId', 'Name', 'Ticket', 'Cabin'], axis=1)\n",
    "    \n",
    "    print(\"Feature engineering:\")\n",
    "    df['FamilySize'] = df['SibSp'] + df['Parch']\n",
    "    df['Age*Class'] = df.AgeFill * df.Pclass\n",
    "       \n",
    "    print(\"Cleansed %s:\" % data_file_path)\n",
    "    print(df.info())\n",
    "    print(df.describe())\n",
    "    assert len(\n",
    "        df.count().unique()) == 1, \"not all attributes have the same number of observations! check for missing values\"\n",
    "    X = df.values\n",
    "    \n",
    "    print(passenger_ids.shape, X.shape, None if y is None else y.shape)\n",
    "    return passenger_ids, X, y"
   ]
  },
  {
   "cell_type": "markdown",
   "metadata": {},
   "source": [
    "[https://www.kaggle.com/c/titanic/details/getting-started-with-random-forests]"
   ]
  },
  {
   "cell_type": "markdown",
   "metadata": {},
   "source": [
    "    \"\"\"\n",
    "    http://nbconvert.readthedocs.org/en/latest/execute_api.html#a-quick-example\n",
    "    \"\"\"\n",
    "    import nbformat\n",
    "    from nbconvert.preprocessors import ExecutePreprocessor\n",
    "\n",
    "    with open(\"python_ii_pandas/DataMunging.ipynb\") as f:\n",
    "        nb = nbformat.read(f, as_version=4)\n",
    "    \n",
    "    ep = ExecutePreprocessor()\n",
    "    nb_execution_path = 'notebooks/'\n",
    "    resources = {'metadata': {'path': nb_execution_path}}\n",
    "    ep.preprocess(nb, resources)"
   ]
  },
  {
   "cell_type": "code",
   "execution_count": 4,
   "metadata": {},
   "outputs": [
    {
     "name": "stdout",
     "output_type": "stream",
     "text": [
      "information schema description:\n<class 'pandas.core.frame.DataFrame'>\nRangeIndex: 891 entries, 0 to 890\nData columns (total 12 columns):\nPassengerId    891 non-null int64\nSurvived       891 non-null int64\nPclass         891 non-null int64\nName           891 non-null object\nSex            891 non-null object\nAge            714 non-null float64\nSibSp          891 non-null int64\nParch          891 non-null int64\nTicket         891 non-null object\nFare           891 non-null float64\nCabin          204 non-null object\nEmbarked       889 non-null object\ndtypes: float64(2), int64(5), object(5)\nmemory usage: 83.6+ KB\nNone\n       PassengerId    Survived      Pclass         Age       SibSp  \\\ncount   891.000000  891.000000  891.000000  714.000000  891.000000   \nmean    446.000000    0.383838    2.308642   29.699118    0.523008   \nstd     257.353842    0.486592    0.836071   14.526497    1.102743   \nmin       1.000000    0.000000    1.000000    0.420000    0.000000   \n25%     223.500000    0.000000    2.000000   20.125000    0.000000   \n50%     446.000000    0.000000    3.000000   28.000000    0.000000   \n75%     668.500000    1.000000    3.000000   38.000000    1.000000   \nmax     891.000000    1.000000    3.000000   80.000000    8.000000   \n\n            Parch        Fare  \ncount  891.000000  891.000000  \nmean     0.381594   32.204208  \nstd      0.806057   49.693429  \nmin      0.000000    0.000000  \n25%      0.000000    7.910400  \n50%      0.000000   14.454200  \n75%      0.000000   31.000000  \nmax      6.000000  512.329200  \nSummary of attributes with values missing:\nAge 714\nCabin 204\nEmbarked 889\nEnumerating str/object data:\nEnumerating Sex:\n['male' 'female']\nEnumerating Embarked:\n['S' 'C' 'Q' nan]\nFilling missing data:\nFilling other missing numeric values with zeroeth-order approximation -- the most probable value (mode):\nFilling Age:\nSeparating attributes from labels and observation IDs\nSeparating Survived, which is not part of the parameters (\"X\")\ndon't even bother enumerating these fields, just drop them:\nFeature engineering:\nCleansed data/train.csv:\n<class 'pandas.core.frame.DataFrame'>\nRangeIndex: 891 entries, 0 to 890\nData columns (total 9 columns):\nPclass          891 non-null int64\nSibSp           891 non-null int64\nParch           891 non-null int64\nFare            891 non-null float64\nGender          891 non-null int32\nEmbarkedEnum    891 non-null float64\nAgeFill         891 non-null float64\nFamilySize      891 non-null int64\nAge*Class       891 non-null float64\ndtypes: float64(4), int32(1), int64(4)\nmemory usage: 59.2 KB\nNone\n           Pclass       SibSp       Parch        Fare      Gender  \\\ncount  891.000000  891.000000  891.000000  891.000000  891.000000   \nmean     2.308642    0.523008    0.381594   32.204208    0.647587   \nstd      0.836071    1.102743    0.806057   49.693429    0.477990   \nmin      1.000000    0.000000    0.000000    0.000000    0.000000   \n25%      2.000000    0.000000    0.000000    7.910400    0.000000   \n50%      3.000000    0.000000    0.000000   14.454200    1.000000   \n75%      3.000000    1.000000    0.000000   31.000000    1.000000   \nmax      3.000000    8.000000    6.000000  512.329200    1.000000   \n\n       EmbarkedEnum     AgeFill  FamilySize   Age*Class  \ncount    891.000000  891.000000  891.000000  891.000000  \nmean       1.897868   29.112424    0.904602   62.614860  \nstd        0.514624   13.304424    1.613459   31.362024  \nmin        1.000000    0.420000    0.000000    0.920000  \n25%        2.000000   21.500000    0.000000   40.000000  \n50%        2.000000   26.000000    0.000000   63.000000  \n75%        2.000000   36.000000    1.000000   75.000000  \nmax        3.000000   80.000000   10.000000  222.000000  \n(891,) (891, 9) (891,)\n"
     ]
    },
    {
     "name": "stdout",
     "output_type": "stream",
     "text": [
      "(891,)\n[0 1]\n[552 339]\n0.980920314254\n"
     ]
    }
   ],
   "source": [
    "from sklearn.ensemble import RandomForestClassifier\n",
    "import numpy as np\n",
    "\n",
    "model = RandomForestClassifier(n_estimators=100)\n",
    "\n",
    "passenger_ids, X, y = process('data/train.csv')\n",
    "model = model.fit(X, y)\n",
    "\n",
    "prediction = model.predict(X)\n",
    "print(prediction.shape)\n",
    "print(np.unique(prediction))\n",
    "print(np.bincount(prediction, minlength=2))\n",
    "\n",
    "score = model.score(X, y)\n",
    "print(score)"
   ]
  },
  {
   "cell_type": "code",
   "execution_count": 88,
   "metadata": {},
   "outputs": [],
   "source": [
    "# Test, save public test as csv: 'PassengerId', 'Survived'\n",
    "import csv\n",
    "\n",
    "passenger_ids, X, y = process('data/test.csv')\n",
    "\n",
    "prediction = model.predict(X)\n",
    "print(prediction.shape)\n",
    "print(np.unique(prediction))\n",
    "print(np.bincount(prediction, minlength=2))\n",
    "\n",
    "with(open('survival.csv', 'w')) as f:\n",
    "    csv_writer = csv.writer(f)\n",
    "    csv_writer.writerow([\"PassengerId\",\"Survived\"])\n",
    "    csv_writer.writerows(zip(passenger_ids, prediction))"
   ]
  },
  {
   "cell_type": "code",
   "execution_count": null,
   "metadata": {},
   "outputs": [],
   "source": [
    ""
   ]
  }
 ],
 "metadata": {},
 "nbformat": 4,
 "nbformat_minor": 0
}