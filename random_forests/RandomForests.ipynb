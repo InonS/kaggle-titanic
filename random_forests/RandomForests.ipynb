{
 "cells": [
  {
   "cell_type": "markdown",
   "metadata": {},
   "source": [
    "[https://www.kaggle.com/c/titanic/details/getting-started-with-random-forests]"
   ]
  },
  {
   "cell_type": "code",
   "execution_count": 3,
   "metadata": {},
   "outputs": [
    {
     "ename": "NotADirectoryError",
     "evalue": "[WinError 267] The directory name is invalid",
     "traceback": [
      "\u001b[0;31m---------------------------------------------------------------------------\u001b[0m",
      "\u001b[0;31mNotADirectoryError\u001b[0m                        Traceback (most recent call last)",
      "\u001b[0;32m<ipython-input-3-2112fe4ccbe1>\u001b[0m in \u001b[0;36m<module>\u001b[0;34m()\u001b[0m\n\u001b[1;32m     10\u001b[0m \u001b[0mnb_execution_path\u001b[0m \u001b[1;33m=\u001b[0m \u001b[1;34m'notebooks/'\u001b[0m\u001b[1;33m\u001b[0m\u001b[0m\n\u001b[1;32m     11\u001b[0m \u001b[0mresources\u001b[0m \u001b[1;33m=\u001b[0m \u001b[1;33m{\u001b[0m\u001b[1;34m'metadata'\u001b[0m\u001b[1;33m:\u001b[0m \u001b[1;33m{\u001b[0m\u001b[1;34m'path'\u001b[0m\u001b[1;33m:\u001b[0m \u001b[0mnb_execution_path\u001b[0m\u001b[1;33m}\u001b[0m\u001b[1;33m}\u001b[0m\u001b[1;33m\u001b[0m\u001b[0m\n\u001b[0;32m---> 12\u001b[0;31m \u001b[0mep\u001b[0m\u001b[1;33m.\u001b[0m\u001b[0mpreprocess\u001b[0m\u001b[1;33m(\u001b[0m\u001b[0mnb\u001b[0m\u001b[1;33m,\u001b[0m \u001b[0mresources\u001b[0m\u001b[1;33m)\u001b[0m\u001b[1;33m\u001b[0m\u001b[0m\n\u001b[0m",
      "\u001b[0;32mC:\\Users\\admin\\AppData\\Local\\Programs\\Python\\Python35\\lib\\site-packages\\nbconvert\\preprocessors\\execute.py\u001b[0m in \u001b[0;36mpreprocess\u001b[0;34m(self, nb, resources)\u001b[0m\n\u001b[1;32m    139\u001b[0m             \u001b[0mextra_arguments\u001b[0m\u001b[1;33m=\u001b[0m\u001b[0mself\u001b[0m\u001b[1;33m.\u001b[0m\u001b[0mextra_arguments\u001b[0m\u001b[1;33m,\u001b[0m\u001b[1;33m\u001b[0m\u001b[0m\n\u001b[1;32m    140\u001b[0m             \u001b[0mstderr\u001b[0m\u001b[1;33m=\u001b[0m\u001b[0mopen\u001b[0m\u001b[1;33m(\u001b[0m\u001b[0mos\u001b[0m\u001b[1;33m.\u001b[0m\u001b[0mdevnull\u001b[0m\u001b[1;33m,\u001b[0m \u001b[1;34m'w'\u001b[0m\u001b[1;33m)\u001b[0m\u001b[1;33m,\u001b[0m\u001b[1;33m\u001b[0m\u001b[0m\n\u001b[0;32m--> 141\u001b[0;31m             cwd=path)\n\u001b[0m\u001b[1;32m    142\u001b[0m         \u001b[0mself\u001b[0m\u001b[1;33m.\u001b[0m\u001b[0mkc\u001b[0m\u001b[1;33m.\u001b[0m\u001b[0mallow_stdin\u001b[0m \u001b[1;33m=\u001b[0m \u001b[1;32mFalse\u001b[0m\u001b[1;33m\u001b[0m\u001b[0m\n\u001b[1;32m    143\u001b[0m \u001b[1;33m\u001b[0m\u001b[0m\n",
      "\u001b[0;32mC:\\Users\\admin\\AppData\\Local\\Programs\\Python\\Python35\\lib\\site-packages\\jupyter_client\\manager.py\u001b[0m in \u001b[0;36mstart_new_kernel\u001b[0;34m(startup_timeout, kernel_name, **kwargs)\u001b[0m\n\u001b[1;32m    427\u001b[0m     \u001b[1;34m\"\"\"Start a new kernel, and return its Manager and Client\"\"\"\u001b[0m\u001b[1;33m\u001b[0m\u001b[0m\n\u001b[1;32m    428\u001b[0m     \u001b[0mkm\u001b[0m \u001b[1;33m=\u001b[0m \u001b[0mKernelManager\u001b[0m\u001b[1;33m(\u001b[0m\u001b[0mkernel_name\u001b[0m\u001b[1;33m=\u001b[0m\u001b[0mkernel_name\u001b[0m\u001b[1;33m)\u001b[0m\u001b[1;33m\u001b[0m\u001b[0m\n\u001b[0;32m--> 429\u001b[0;31m     \u001b[0mkm\u001b[0m\u001b[1;33m.\u001b[0m\u001b[0mstart_kernel\u001b[0m\u001b[1;33m(\u001b[0m\u001b[1;33m**\u001b[0m\u001b[0mkwargs\u001b[0m\u001b[1;33m)\u001b[0m\u001b[1;33m\u001b[0m\u001b[0m\n\u001b[0m\u001b[1;32m    430\u001b[0m     \u001b[0mkc\u001b[0m \u001b[1;33m=\u001b[0m \u001b[0mkm\u001b[0m\u001b[1;33m.\u001b[0m\u001b[0mclient\u001b[0m\u001b[1;33m(\u001b[0m\u001b[1;33m)\u001b[0m\u001b[1;33m\u001b[0m\u001b[0m\n\u001b[1;32m    431\u001b[0m     \u001b[0mkc\u001b[0m\u001b[1;33m.\u001b[0m\u001b[0mstart_channels\u001b[0m\u001b[1;33m(\u001b[0m\u001b[1;33m)\u001b[0m\u001b[1;33m\u001b[0m\u001b[0m\n",
      "\u001b[0;32mC:\\Users\\admin\\AppData\\Local\\Programs\\Python\\Python35\\lib\\site-packages\\jupyter_client\\manager.py\u001b[0m in \u001b[0;36mstart_kernel\u001b[0;34m(self, **kw)\u001b[0m\n\u001b[1;32m    241\u001b[0m         \u001b[0mself\u001b[0m\u001b[1;33m.\u001b[0m\u001b[0mlog\u001b[0m\u001b[1;33m.\u001b[0m\u001b[0mdebug\u001b[0m\u001b[1;33m(\u001b[0m\u001b[1;34m\"Starting kernel: %s\"\u001b[0m\u001b[1;33m,\u001b[0m \u001b[0mkernel_cmd\u001b[0m\u001b[1;33m)\u001b[0m\u001b[1;33m\u001b[0m\u001b[0m\n\u001b[1;32m    242\u001b[0m         self.kernel = self._launch_kernel(kernel_cmd, env=env,\n\u001b[0;32m--> 243\u001b[0;31m                                     **kw)\n\u001b[0m\u001b[1;32m    244\u001b[0m         \u001b[0mself\u001b[0m\u001b[1;33m.\u001b[0m\u001b[0mstart_restarter\u001b[0m\u001b[1;33m(\u001b[0m\u001b[1;33m)\u001b[0m\u001b[1;33m\u001b[0m\u001b[0m\n\u001b[1;32m    245\u001b[0m         \u001b[0mself\u001b[0m\u001b[1;33m.\u001b[0m\u001b[0m_connect_control_socket\u001b[0m\u001b[1;33m(\u001b[0m\u001b[1;33m)\u001b[0m\u001b[1;33m\u001b[0m\u001b[0m\n",
      "\u001b[0;32mC:\\Users\\admin\\AppData\\Local\\Programs\\Python\\Python35\\lib\\site-packages\\jupyter_client\\manager.py\u001b[0m in \u001b[0;36m_launch_kernel\u001b[0;34m(self, kernel_cmd, **kw)\u001b[0m\n\u001b[1;32m    187\u001b[0m         \u001b[0moverride\u001b[0m \u001b[1;32min\u001b[0m \u001b[0ma\u001b[0m \u001b[0msubclass\u001b[0m \u001b[0mto\u001b[0m \u001b[0mlaunch\u001b[0m \u001b[0mkernel\u001b[0m \u001b[0msubprocesses\u001b[0m \u001b[0mdifferently\u001b[0m\u001b[1;33m\u001b[0m\u001b[0m\n\u001b[1;32m    188\u001b[0m         \"\"\"\n\u001b[0;32m--> 189\u001b[0;31m         \u001b[1;32mreturn\u001b[0m \u001b[0mlaunch_kernel\u001b[0m\u001b[1;33m(\u001b[0m\u001b[0mkernel_cmd\u001b[0m\u001b[1;33m,\u001b[0m \u001b[1;33m**\u001b[0m\u001b[0mkw\u001b[0m\u001b[1;33m)\u001b[0m\u001b[1;33m\u001b[0m\u001b[0m\n\u001b[0m\u001b[1;32m    190\u001b[0m \u001b[1;33m\u001b[0m\u001b[0m\n\u001b[1;32m    191\u001b[0m     \u001b[1;31m# Control socket used for polite kernel shutdown\u001b[0m\u001b[1;33m\u001b[0m\u001b[1;33m\u001b[0m\u001b[0m\n",
      "\u001b[0;32mC:\\Users\\admin\\AppData\\Local\\Programs\\Python\\Python35\\lib\\site-packages\\jupyter_client\\launcher.py\u001b[0m in \u001b[0;36mlaunch_kernel\u001b[0;34m(cmd, stdin, stdout, stderr, env, independent, cwd, **kw)\u001b[0m\n\u001b[1;32m    121\u001b[0m \u001b[1;33m\u001b[0m\u001b[0m\n\u001b[1;32m    122\u001b[0m     \u001b[1;32mtry\u001b[0m\u001b[1;33m:\u001b[0m\u001b[1;33m\u001b[0m\u001b[0m\n\u001b[0;32m--> 123\u001b[0;31m         \u001b[0mproc\u001b[0m \u001b[1;33m=\u001b[0m \u001b[0mPopen\u001b[0m\u001b[1;33m(\u001b[0m\u001b[0mcmd\u001b[0m\u001b[1;33m,\u001b[0m \u001b[1;33m**\u001b[0m\u001b[0mkwargs\u001b[0m\u001b[1;33m)\u001b[0m\u001b[1;33m\u001b[0m\u001b[0m\n\u001b[0m\u001b[1;32m    124\u001b[0m     \u001b[1;32mexcept\u001b[0m \u001b[0mException\u001b[0m \u001b[1;32mas\u001b[0m \u001b[0mexc\u001b[0m\u001b[1;33m:\u001b[0m\u001b[1;33m\u001b[0m\u001b[0m\n\u001b[1;32m    125\u001b[0m         msg = (\n",
      "\u001b[0;32mC:\\Users\\admin\\AppData\\Local\\Programs\\Python\\Python35\\lib\\subprocess.py\u001b[0m in \u001b[0;36m__init__\u001b[0;34m(self, args, bufsize, executable, stdin, stdout, stderr, preexec_fn, close_fds, shell, cwd, env, universal_newlines, startupinfo, creationflags, restore_signals, start_new_session, pass_fds)\u001b[0m\n\u001b[1;32m    948\u001b[0m                                 \u001b[0mc2pread\u001b[0m\u001b[1;33m,\u001b[0m \u001b[0mc2pwrite\u001b[0m\u001b[1;33m,\u001b[0m\u001b[1;33m\u001b[0m\u001b[0m\n\u001b[1;32m    949\u001b[0m                                 \u001b[0merrread\u001b[0m\u001b[1;33m,\u001b[0m \u001b[0merrwrite\u001b[0m\u001b[1;33m,\u001b[0m\u001b[1;33m\u001b[0m\u001b[0m\n\u001b[0;32m--> 950\u001b[0;31m                                 restore_signals, start_new_session)\n\u001b[0m\u001b[1;32m    951\u001b[0m         \u001b[1;32mexcept\u001b[0m\u001b[1;33m:\u001b[0m\u001b[1;33m\u001b[0m\u001b[0m\n\u001b[1;32m    952\u001b[0m             \u001b[1;31m# Cleanup if the child failed starting.\u001b[0m\u001b[1;33m\u001b[0m\u001b[1;33m\u001b[0m\u001b[0m\n",
      "\u001b[0;32mC:\\Users\\admin\\AppData\\Local\\Programs\\Python\\Python35\\lib\\subprocess.py\u001b[0m in \u001b[0;36m_execute_child\u001b[0;34m(self, args, executable, preexec_fn, close_fds, pass_fds, cwd, env, startupinfo, creationflags, shell, p2cread, p2cwrite, c2pread, c2pwrite, errread, errwrite, unused_restore_signals, unused_start_new_session)\u001b[0m\n\u001b[1;32m   1218\u001b[0m                                          \u001b[0menv\u001b[0m\u001b[1;33m,\u001b[0m\u001b[1;33m\u001b[0m\u001b[0m\n\u001b[1;32m   1219\u001b[0m                                          \u001b[0mcwd\u001b[0m\u001b[1;33m,\u001b[0m\u001b[1;33m\u001b[0m\u001b[0m\n\u001b[0;32m-> 1220\u001b[0;31m                                          startupinfo)\n\u001b[0m\u001b[1;32m   1221\u001b[0m             \u001b[1;32mfinally\u001b[0m\u001b[1;33m:\u001b[0m\u001b[1;33m\u001b[0m\u001b[0m\n\u001b[1;32m   1222\u001b[0m                 \u001b[1;31m# Child is launched. Close the parent's copy of those pipe\u001b[0m\u001b[1;33m\u001b[0m\u001b[1;33m\u001b[0m\u001b[0m\n",
      "\u001b[0;31mNotADirectoryError\u001b[0m: [WinError 267] The directory name is invalid"
     ],
     "output_type": "error"
    }
   ],
   "source": [
    "\"\"\"\n",
    "http://nbconvert.readthedocs.org/en/latest/execute_api.html#a-quick-example\n",
    "\"\"\"\n",
    "import nbformat\n",
    "from nbconvert.preprocessors import ExecutePreprocessor\n",
    "with open(\"python_ii_pandas/DataMunging.ipynb\") as f:\n",
    "    nb = nbformat.read(f, as_version=4)\n",
    "\n",
    "ep = ExecutePreprocessor()\n",
    "nb_execution_path = 'notebooks/'\n",
    "resources = {'metadata': {'path': nb_execution_path}}\n",
    "ep.preprocess(nb, resources)"
   ]
  },
  {
   "cell_type": "code",
   "execution_count": 7,
   "metadata": {},
   "outputs": [],
   "source": [
    "import pandas as pd\n",
    "from numpy import zeros\n",
    "\n",
    "\n",
    "def process(data_file_path):\n",
    "    df = pd.read_csv(data_file_path, header=0)\n",
    "    \n",
    "    print(\"information schema description:\")\n",
    "    print(df.info())\n",
    "    print(df.describe())\n",
    "    \n",
    "    print(\"Summary of attributes with values missing:\")\n",
    "    for i, s in enumerate(df):\n",
    "        if df[s].count() < len(df):\n",
    "            print(s, df[s].count())\n",
    "    \n",
    "    print(\"Enumerating str/object data:\")\n",
    "    \n",
    "    print(\"Enumerating Sex:\")\n",
    "    print(df['Sex'].unique())\n",
    "    df['Gender'] = df['Sex'].map({'female': 0, 'male': 1}).astype(int)\n",
    "    df = df.drop(['Sex'], axis=1)\n",
    "    \n",
    "    print(\"Enumerating Embarked:\")\n",
    "    print(df['Embarked'].unique())\n",
    "    df['EmbarkedEnum'] = df['Embarked'].dropna().map({'C': 1, 'S': 2, 'Q': 3}).astype(int)\n",
    "    df = df.drop(['Embarked'], axis=1)\n",
    "    \n",
    "    print(\"Filling missing data:\")\n",
    "    \n",
    "    print(\"Filling other missing numeric values with zeroeth-order approximation -- the most probable value (mode):\")\n",
    "    for field in ('EmbarkedEnum', 'SibSp', 'Parch', 'Fare'):\n",
    "        df[field].fillna(df[field].dropna().mode().values[0], inplace=True)\n",
    "    \n",
    "    print(\"Filling Age:\")\n",
    "    nGenders = len(df['Gender'].dropna().unique())\n",
    "    nPclasses = len(df['Pclass'].dropna().unique())\n",
    "    median_ages = zeros((nGenders, nPclasses))\n",
    "    for i in range(nGenders):\n",
    "        for j in range(nPclasses):\n",
    "            median_ages[i, j] = df[(df['Gender'] == i) & (df['Pclass'] == j + 1)]['Age'].dropna().median()\n",
    "    df['AgeFill'] = df['Age']\n",
    "    for i in range(nGenders):\n",
    "        for j in range(nPclasses):\n",
    "            df.loc[(df.Age.isnull()) & (df.Gender == i) & (df.Pclass == j + 1), 'AgeFill'] = median_ages[i, j]\n",
    "    df = df.drop(['Age'], axis=1)\n",
    "    \n",
    "    print(\"Separating attributes from labels and observation IDs\")\n",
    "    \n",
    "    y = None\n",
    "    if 'Survived' in df:\n",
    "        print(\"Separating Survived, which is not part of the parameters (\\\"X\\\")\")\n",
    "        y = df['Survived']\n",
    "        df = df.drop(['Survived'], axis=1)\n",
    "    \n",
    "    print(\"don't even bother enumerating these fields, just drop them:\")\n",
    "    passenger_ids = df['PassengerId'].values\n",
    "    df = df.drop(['PassengerId', 'Name', 'Ticket', 'Cabin'], axis=1)\n",
    "    \n",
    "    print(\"Feature engineering:\")\n",
    "    df['FamilySize'] = df['SibSp'] + df['Parch']\n",
    "    df['Age*Class'] = df.AgeFill * df.Pclass\n",
    "       \n",
    "    print(\"Cleansed %s:\" % data_file_path)\n",
    "    print(df.info())\n",
    "    print(df.describe())\n",
    "    assert len(\n",
    "        df.count().unique()) == 1, \"not all attributes have the same number of observations! check for missing values\"\n",
    "    X = df.values\n",
    "    \n",
    "    print(passenger_ids.shape, X.shape, None if y is None else y.shape)\n",
    "    return passenger_ids, X, y"
   ]
  },
  {
   "cell_type": "code",
   "execution_count": 8,
   "metadata": {},
   "outputs": [
    {
     "name": "stdout",
     "output_type": "stream",
     "text": [
      "information schema description:\n<class 'pandas.core.frame.DataFrame'>\nRangeIndex: 891 entries, 0 to 890\nData columns (total 12 columns):\nPassengerId    891 non-null int64\nSurvived       891 non-null int64\nPclass         891 non-null int64\nName           891 non-null object\nSex            891 non-null object\nAge            714 non-null float64\nSibSp          891 non-null int64\nParch          891 non-null int64\nTicket         891 non-null object\nFare           891 non-null float64\nCabin          204 non-null object\nEmbarked       889 non-null object\ndtypes: float64(2), int64(5), object(5)\nmemory usage: 83.6+ KB\nNone\n       PassengerId    Survived      Pclass         Age       SibSp  \\\ncount   891.000000  891.000000  891.000000  714.000000  891.000000   \nmean    446.000000    0.383838    2.308642   29.699118    0.523008   \nstd     257.353842    0.486592    0.836071   14.526497    1.102743   \nmin       1.000000    0.000000    1.000000    0.420000    0.000000   \n25%     223.500000    0.000000    2.000000   20.125000    0.000000   \n50%     446.000000    0.000000    3.000000   28.000000    0.000000   \n75%     668.500000    1.000000    3.000000   38.000000    1.000000   \nmax     891.000000    1.000000    3.000000   80.000000    8.000000   \n\n            Parch        Fare  \ncount  891.000000  891.000000  \nmean     0.381594   32.204208  \nstd      0.806057   49.693429  \nmin      0.000000    0.000000  \n25%      0.000000    7.910400  \n50%      0.000000   14.454200  \n75%      0.000000   31.000000  \nmax      6.000000  512.329200  \nSummary of attributes with values missing:\nAge 714\nCabin 204\nEmbarked 889\nEnumerating str/object data:\nEnumerating Sex:\n['male' 'female']\nEnumerating Embarked:\n['S' 'C' 'Q' nan]\nFilling missing data:\nFilling other missing numeric values with zeroeth-order approximation -- the most probable value (mode):\nFilling Age:\nSeparating attributes from labels and observation IDs\nSeparating Survived, which is not part of the parameters (\"X\")\ndon't even bother enumerating these fields, just drop them:\nFeature engineering:\nCleansed data/train.csv:\n<class 'pandas.core.frame.DataFrame'>\nRangeIndex: 891 entries, 0 to 890\nData columns (total 9 columns):\nPclass          891 non-null int64\nSibSp           891 non-null int64\nParch           891 non-null int64\nFare            891 non-null float64\nGender          891 non-null int32\nEmbarkedEnum    891 non-null float64\nAgeFill         891 non-null float64\nFamilySize      891 non-null int64\nAge*Class       891 non-null float64\ndtypes: float64(4), int32(1), int64(4)\nmemory usage: 59.2 KB\nNone\n           Pclass       SibSp       Parch        Fare      Gender  \\\ncount  891.000000  891.000000  891.000000  891.000000  891.000000   \nmean     2.308642    0.523008    0.381594   32.204208    0.647587   \nstd      0.836071    1.102743    0.806057   49.693429    0.477990   \nmin      1.000000    0.000000    0.000000    0.000000    0.000000   \n25%      2.000000    0.000000    0.000000    7.910400    0.000000   \n50%      3.000000    0.000000    0.000000   14.454200    1.000000   \n75%      3.000000    1.000000    0.000000   31.000000    1.000000   \nmax      3.000000    8.000000    6.000000  512.329200    1.000000   \n\n       EmbarkedEnum     AgeFill  FamilySize   Age*Class  \ncount    891.000000  891.000000  891.000000  891.000000  \nmean       1.897868   29.112424    0.904602   62.614860  \nstd        0.514624   13.304424    1.613459   31.362024  \nmin        1.000000    0.420000    0.000000    0.920000  \n25%        2.000000   21.500000    0.000000   40.000000  \n50%        2.000000   26.000000    0.000000   63.000000  \n75%        2.000000   36.000000    1.000000   75.000000  \nmax        3.000000   80.000000   10.000000  222.000000  \n(891,) (891, 9) (891,)\n"
     ]
    },
    {
     "name": "stdout",
     "output_type": "stream",
     "text": [
      "(891,)\n[0 1]\n[556 335]\n0.980920314254\n"
     ]
    }
   ],
   "source": [
    "from sklearn.ensemble import RandomForestClassifier\n",
    "import numpy as np\n",
    "\n",
    "model = RandomForestClassifier(n_estimators=100)\n",
    "\n",
    "passenger_ids, X, y = process('data/train.csv')\n",
    "model = model.fit(X, y)\n",
    "\n",
    "prediction = model.predict(X)\n",
    "print(prediction.shape)\n",
    "print(np.unique(prediction))\n",
    "print(np.bincount(prediction, minlength=2))\n",
    "\n",
    "score = model.score(X, y)\n",
    "print(score)"
   ]
  },
  {
   "cell_type": "code",
   "execution_count": 9,
   "metadata": {},
   "outputs": [
    {
     "name": "stdout",
     "output_type": "stream",
     "text": [
      "information schema description:\n<class 'pandas.core.frame.DataFrame'>\nRangeIndex: 418 entries, 0 to 417\nData columns (total 11 columns):\nPassengerId    418 non-null int64\nPclass         418 non-null int64\nName           418 non-null object\nSex            418 non-null object\nAge            332 non-null float64\nSibSp          418 non-null int64\nParch          418 non-null int64\nTicket         418 non-null object\nFare           417 non-null float64\nCabin          91 non-null object\nEmbarked       418 non-null object\ndtypes: float64(2), int64(4), object(5)\nmemory usage: 36.0+ KB\nNone\n       PassengerId      Pclass         Age       SibSp       Parch        Fare\ncount   418.000000  418.000000  332.000000  418.000000  418.000000  417.000000\nmean   1100.500000    2.265550   30.272590    0.447368    0.392344   35.627188\nstd     120.810458    0.841838   14.181209    0.896760    0.981429   55.907576\nmin     892.000000    1.000000    0.170000    0.000000    0.000000    0.000000\n25%     996.250000    1.000000   21.000000    0.000000    0.000000    7.895800\n50%    1100.500000    3.000000   27.000000    0.000000    0.000000   14.454200\n75%    1204.750000    3.000000   39.000000    1.000000    0.000000   31.500000\nmax    1309.000000    3.000000   76.000000    8.000000    9.000000  512.329200\nSummary of attributes with values missing:\nAge 332\nFare 417\nCabin 91\nEnumerating str/object data:\nEnumerating Sex:\n['male' 'female']\nEnumerating Embarked:\n['Q' 'S' 'C']\nFilling missing data:\nFilling other missing numeric values with zeroeth-order approximation -- the most probable value (mode):\nFilling Age:\nSeparating attributes from labels and observation IDs\ndon't even bother enumerating these fields, just drop them:\nFeature engineering:\nCleansed data/test.csv:\n<class 'pandas.core.frame.DataFrame'>\nRangeIndex: 418 entries, 0 to 417\nData columns (total 9 columns):\nPclass          418 non-null int64\nSibSp           418 non-null int64\nParch           418 non-null int64\nFare            418 non-null float64\nGender          418 non-null int32\nEmbarkedEnum    418 non-null int32\nAgeFill         418 non-null float64\nFamilySize      418 non-null int64\nAge*Class       418 non-null float64\ndtypes: float64(3), int32(2), int64(4)\nmemory usage: 26.2 KB\nNone\n           Pclass       SibSp       Parch        Fare      Gender  \\\ncount  418.000000  418.000000  418.000000  418.000000  418.000000   \nmean     2.265550    0.447368    0.392344   35.560497    0.636364   \nstd      0.841838    0.896760    0.981429   55.857145    0.481622   \nmin      1.000000    0.000000    0.000000    0.000000    0.000000   \n25%      1.000000    0.000000    0.000000    7.895800    0.000000   \n50%      3.000000    0.000000    0.000000   14.454200    1.000000   \n75%      3.000000    1.000000    0.000000   31.471875    1.000000   \nmax      3.000000    8.000000    9.000000  512.329200    1.000000   \n\n       EmbarkedEnum     AgeFill  FamilySize   Age*Class  \ncount    418.000000  418.000000  418.000000  418.000000  \nmean       1.866029   29.297847    0.839713   60.524115  \nstd        0.580452   13.038856    1.519072   26.402800  \nmin        1.000000    0.170000    0.000000    0.510000  \n25%        2.000000   22.000000    0.000000   43.125000  \n50%        2.000000   25.000000    0.000000   60.500000  \n75%        2.000000   36.375000    1.000000   72.000000  \nmax        3.000000   76.000000   10.000000  181.500000  \n(418,) (418, 9) None\n(418,)\n[0 1]\n[269 149]\n"
     ]
    }
   ],
   "source": [
    "# Test, save public test as csv: 'PassengerId', 'Survived'\n",
    "import csv\n",
    "\n",
    "passenger_ids, X, y = process('data/test.csv')\n",
    "\n",
    "prediction = model.predict(X)\n",
    "print(prediction.shape)\n",
    "print(np.unique(prediction))\n",
    "print(np.bincount(prediction, minlength=2))\n",
    "\n",
    "with(open('survival.csv', 'w')) as f:\n",
    "    csv_writer = csv.writer(f)\n",
    "    csv_writer.writerow([\"PassengerId\",\"Survived\"])\n",
    "    csv_writer.writerows(zip(passenger_ids, prediction))"
   ]
  },
  {
   "cell_type": "code",
   "execution_count": null,
   "metadata": {},
   "outputs": [],
   "source": [
    ""
   ]
  }
 ],
 "metadata": {},
 "nbformat": 4,
 "nbformat_minor": 0
}