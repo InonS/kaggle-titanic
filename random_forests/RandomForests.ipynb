{
 "cells": [
  {
   "cell_type": "markdown",
   "metadata": {},
   "source": [
    "[https://www.kaggle.com/c/titanic/details/getting-started-with-random-forests]"
   ]
  },
  {
   "cell_type": "markdown",
   "metadata": {},
   "source": [
    "    \"\"\"\n",
    "    http://nbconvert.readthedocs.org/en/latest/execute_api.html#a-quick-example\n",
    "    \"\"\"\n",
    "    import nbformat\n",
    "    from nbconvert.preprocessors import ExecutePreprocessor\n",
    "\n",
    "    with open(\"python_ii_pandas/DataMunging.ipynb\") as f:\n",
    "        nb = nbformat.read(f, as_version=4)\n",
    "    \n",
    "    ep = ExecutePreprocessor()\n",
    "    nb_execution_path = 'notebooks/'\n",
    "    resources = {'metadata': {'path': nb_execution_path}}\n",
    "    ep.preprocess(nb, resources)"
   ]
  },
  {
   "cell_type": "code",
   "execution_count": 8,
   "metadata": {},
   "outputs": [],
   "source": [
    "import pandas as pd\n",
    "\n",
    "df = pd.read_csv('data/train.csv', header=0)"
   ]
  },
  {
   "cell_type": "code",
   "execution_count": null,
   "metadata": {},
   "outputs": [],
   "source": [
    ""
   ]
  },
  {
   "cell_type": "code",
   "execution_count": null,
   "metadata": {},
   "outputs": [],
   "source": [
    "from sklearn.ensemble import RandomForestClassifier\n",
    "\n",
    "rfc = RandomForestClassifier()\n",
    "\n",
    "# rfc._validate_X_predict(X)\n",
    "# rfc._validate_y_class_weight(y)\n",
    "# rfc.fit(X, y)\n",
    "# rfc.predict(X)\n",
    "# rfc._set_oob_score(X, y)"
   ]
  }
 ],
 "metadata": {},
 "nbformat": 4,
 "nbformat_minor": 0
}