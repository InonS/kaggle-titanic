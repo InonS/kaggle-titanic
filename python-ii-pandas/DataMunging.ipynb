{
 "cells": [
  {
   "cell_type": "code",
   "execution_count": 4,
   "metadata": {},
   "outputs": [],
   "source": [
    "import csv\n",
    "import numpy as np\n",
    "\n",
    "csv_file_object = csv.reader(open('data/train.csv', 'r'))\n",
    "header = csv_file_object.__next__()\n",
    "data = []\n",
    "\n",
    "for row in csv_file_object:\n",
    "    data.append(row)\n",
    "data = np.array(data)"
   ]
  }
 ],
 "metadata": {},
 "nbformat": 4,
 "nbformat_minor": 0
}