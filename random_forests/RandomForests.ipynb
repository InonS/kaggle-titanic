{
 "cells": [
  {
   "cell_type": "markdown",
   "metadata": {},
   "source": [
    "[https://www.kaggle.com/c/titanic/details/getting-started-with-random-forests]"
   ]
  },
  {
   "cell_type": "markdown",
   "metadata": {},
   "source": [
    "    \"\"\"\n",
    "    http://nbconvert.readthedocs.org/en/latest/execute_api.html#a-quick-example\n",
    "    \"\"\"\n",
    "    import nbformat\n",
    "    from nbconvert.preprocessors import ExecutePreprocessor\n",
    "\n",
    "    with open(\"python_ii_pandas/DataMunging.ipynb\") as f:\n",
    "        nb = nbformat.read(f, as_version=4)\n",
    "    \n",
    "    ep = ExecutePreprocessor()\n",
    "    nb_execution_path = 'notebooks/'\n",
    "    resources = {'metadata': {'path': nb_execution_path}}\n",
    "    ep.preprocess(nb, resources)"
   ]
  },
  {
   "cell_type": "code",
   "execution_count": 12,
   "metadata": {},
   "outputs": [],
   "source": [
    "import pandas as pd\n",
    "from numpy import zeros \n",
    "\n",
    "df = pd.read_csv('data/train.csv', header=0)\n",
    "df.describe()\n",
    "df.dtypes\n",
    "\n",
    "# enumerate gender\n",
    "df['Sex'].unique()\n",
    "df['Gender'] = df['Sex'].map({'female': 0, 'male': 1}).astype(int)\n",
    "df = df.drop(['Sex'], axis=1)\n",
    "\n",
    "# enumerate embarked\n",
    "df['Embarked'].unique()\n",
    "df['EmbarkedEnum'] = df['Embarked'].dropna().map({'S': 0, 'C': 1, 'Q': 2}).astype(int)\n",
    "df = df.drop(['Embarked'], axis=1)\n",
    "\n",
    "# fill age\n",
    "nGenders = len(df['Gender'].dropna().unique())\n",
    "nPclasses = len(df['Pclass'].dropna().unique())\n",
    "median_ages = zeros((nGenders, nPclasses))\n",
    "for i in range(nGenders):\n",
    "    for j in range(nPclasses):\n",
    "        median_ages[i, j] = df[(df['Gender'] == i) & (df['Pclass'] == j + 1)]['Age'].dropna().median()\n",
    "df['AgeFill'] = df['Age']\n",
    "for i in range(nGenders):\n",
    "    for j in range(nPclasses):\n",
    "        df.loc[ (df.Age.isnull()) & (df.Gender == i) & (df.Pclass == j + 1), 'AgeFill'] = median_ages[i,j]\n",
    "df = df.drop(['Age'], axis=1)\n",
    "\n",
    "# don't even bother enumerating these fields, just drop them\n",
    "df = df.drop(['Name', 'Ticket', 'Cabin'], axis=1)\n",
    "\n",
    "# feature engineering\n",
    "df['FamilySize'] = df['SibSp'] + df['Parch']\n",
    "df['Age*Class'] = df.AgeFill * df.Pclass\n",
    "\n",
    "df.describe()\n",
    "X = df.values\n",
    "y = df['Survived']"
   ]
  },
  {
   "cell_type": "code",
   "execution_count": null,
   "metadata": {},
   "outputs": [],
   "source": [
    "from sklearn.ensemble import RandomForestClassifier\n",
    "\n",
    "rfc = RandomForestClassifier()\n",
    "\n",
    "# rfc._validate_X_predict(X)\n",
    "# rfc._validate_y_class_weight(y)\n",
    "# rfc.fit(X, y)\n",
    "# rfc.predict(X)\n",
    "# rfc._set_oob_score(X, y)"
   ]
  }
 ],
 "metadata": {},
 "nbformat": 4,
 "nbformat_minor": 0
}